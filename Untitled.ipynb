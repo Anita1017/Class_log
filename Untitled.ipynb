{
 "cells": [
  {
   "cell_type": "code",
   "execution_count": 67,
   "metadata": {},
   "outputs": [],
   "source": [
    "import tkinter as tk"
   ]
  },
  {
   "cell_type": "code",
   "execution_count": 74,
   "metadata": {},
   "outputs": [],
   "source": [
    "import tkinter.messagebox\n",
    "import pickle"
   ]
  },
  {
   "cell_type": "code",
   "execution_count": 86,
   "metadata": {},
   "outputs": [],
   "source": [
    "root = tk.Tk()\n",
    "root.title(\"Class Log\")\n",
    "\n",
    "def add_class():\n",
    "    class_added = entry.get()\n",
    "    #class_added.tag_config(\"here\",background=\"yellow\", foreground=\"blue\")\n",
    "    if class_added !=\"\":\n",
    "        box_task.insert(tk.END, class_added)\n",
    "        entry.delete(0,tk.END)\n",
    "    else:\n",
    "        tk.messagebox.showwarning(title = \"Warning!\", message=\"You must enter a student name.\")\n",
    "\n",
    "        \n",
    "def delete_class():\n",
    "    try:\n",
    "        class_index = box_task.curselection()[0]\n",
    "        box_task.delete(class_index)\n",
    "    except:\n",
    "        tk.messagebox.showwarning(title = \"Warning!\", message=\"You must select a student name.\")\n",
    "\n",
    "def load_class():\n",
    "    try:\n",
    "        students = pickle.load(open(\"students.dat\",\"rb\"))\n",
    "        box_task.delete(0, tk.END)\n",
    "        for student in students:\n",
    "            box_task.insert(tk.END, student)\n",
    "    except:\n",
    "        tk.messagebox.showwarning(title = \"Warning!\", message=\"Can't find class students.\")\n",
    "        \n",
    "\n",
    "def save_class():\n",
    "    students = box_task.get(0,box_task.size())\n",
    "    pickle.dump(students, open(\"students.dat\", \"wb\"))\n",
    "    tk.messagebox.showinfo(title = None, message=\"Data Saved!.\")\n",
    "        \n",
    "        \n",
    "frame = tk.Frame(root)\n",
    "frame.pack()\n",
    "\n",
    "box_task = tk.Listbox(frame, height=25, width =50)\n",
    "box_task.pack(side=tk.LEFT)\n",
    "\n",
    "scroll = tk.Scrollbar(frame)\n",
    "scroll.pack(side=tk.RIGHT, fill=tk.Y)\n",
    "\n",
    "box_task.config(yscrollcommand = scroll.set)\n",
    "scroll.config(command = box_task.yview)\n",
    "\n",
    "entry = tk.Entry(root,width = 50)\n",
    "entry.pack()\n",
    "\n",
    "add_button = tk.Button(root, text=\"Add Student\", width=42, command=add_class)\n",
    "add_button.pack()\n",
    "\n",
    "delete_button = tk.Button(root, text=\"Delete Student\", width=42, command=delete_class)\n",
    "delete_button.pack()\n",
    "\n",
    "load_button = tk.Button(root, text=\"Load Student\", width=42, command=load_class)\n",
    "load_button.pack()\n",
    "\n",
    "save_button = tk.Button(root, text=\"Save Student\", width=42, command=save_class)\n",
    "save_button.pack()\n",
    "\n",
    "root.mainloop()"
   ]
  },
  {
   "cell_type": "code",
   "execution_count": null,
   "metadata": {},
   "outputs": [],
   "source": []
  },
  {
   "cell_type": "code",
   "execution_count": null,
   "metadata": {},
   "outputs": [],
   "source": []
  },
  {
   "cell_type": "code",
   "execution_count": null,
   "metadata": {},
   "outputs": [],
   "source": []
  }
 ],
 "metadata": {
  "kernelspec": {
   "display_name": "Python 3",
   "language": "python",
   "name": "python3"
  },
  "language_info": {
   "codemirror_mode": {
    "name": "ipython",
    "version": 3
   },
   "file_extension": ".py",
   "mimetype": "text/x-python",
   "name": "python",
   "nbconvert_exporter": "python",
   "pygments_lexer": "ipython3",
   "version": "3.7.4"
  }
 },
 "nbformat": 4,
 "nbformat_minor": 4
}
